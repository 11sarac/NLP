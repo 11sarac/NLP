{
 "cells": [
  {
   "cell_type": "markdown",
   "metadata": {
    "collapsed": false
   },
   "source": [
    "# 基于SKEP的外语新闻超党派倾向分析 （进行中）"
   ]
  },
  {
   "cell_type": "markdown",
   "metadata": {
    "collapsed": false
   },
   "source": [
    "# 一. 项目背景\n",
    "文本情感分析，简单来说就是给定一段文本，让模型来判断文本的情感色彩，属于NLP经典任务中的分类任务。情感分析在商品喜好、消费决策、舆情分析等场景中均有应用。  \n",
    "  \n",
    "通常的文本情感分析研究，旨在判断文本的积极、消极或中立倾向。然而文本的情感倾向不仅可以按积极或消极进行划分，在外语新闻文本中，文本还存在超党派倾向，对于该类文本，超党派倾向的分析同样重要。 \n",
    "  \n",
    "超党派倾向（hyperpartisan）是指观点忽略客观事实，单纯从政党利益考量，为反对而反对的这种态势，该情况多出现在西方国家。具有超党派倾向的新闻，观点往往不够客观中立，影响新闻可信度。因此，外语新闻的阅读中，往往需要察觉其超党派倾向。利用机器学习方法对新闻文本进行分析，探查其超党派倾向，可运用于新闻筛选与推荐，具有一定研究价值。  \n",
    "  \n",
    "本项目采用 Hyperpartisan News Detection 2019 比赛的数据集，利用SKEP模型，对外语新闻中的超党派倾向进行分析，得到了 0.90625的准确率，并处于持续优化的阶段中。"
   ]
  },
  {
   "cell_type": "markdown",
   "metadata": {
    "collapsed": false
   },
   "source": [
    "# 二、 数据处理"
   ]
  },
  {
   "cell_type": "markdown",
   "metadata": {
    "collapsed": false
   },
   "source": [
    "## 2.1 数据加载与浏览"
   ]
  },
  {
   "cell_type": "code",
   "execution_count": 15,
   "metadata": {
    "collapsed": false
   },
   "outputs": [
    {
     "name": "stdout",
     "output_type": "stream",
     "text": [
      "{'text': '<p>The FBI is advising people to hang up if they receive a call from a woman screaming for help.</p> <p>A decades-old <a href=\"https://www.fbi.gov/news/stories/virtual-kidnapping\" type=\"external\">virtual kidnapping scam is placing more U.S. residents at risk of becoming potential victims</a>, the FBI warned on its website.</p> <p>The scheme takes many forms, but basically callers trick victims into paying ransoms to free family or friends who have been “kidnapped.” The virtual abductors coerce victims to pay a ransom before victims can find out that no one has been kidnapped.</p> <p>The FBI had been tracking virtual kidnapping calls primarily from prisons in Mexico between 2013 and 2015. The callers targeted individuals who spoke Spanish, the FBI said. Most of the victims were from the Los Angeles and Houston areas.</p> Today\\'s top news by email <p>The local news you need to start your day</p> <p>Recaptcha requires verification.</p> <p>protected by reCAPTCHA</p> <p><a href=\"https://www.google.com/intl/en/policies/privacy/\" type=\"external\">Privacy</a> - <a href=\"https://www.google.com/intl/en/policies/terms/\" type=\"external\">Terms</a></p> <p><a href=\"https://www.google.com/intl/en/policies/privacy/\" type=\"external\">Privacy</a> - <a href=\"https://www.google.com/intl/en/policies/terms/\" type=\"external\">Terms</a></p> <p>The FBI issued the warning because kidnappers have widened their pool of potential victims by no longer targeting only specific individuals and Spanish speakers. The callers also are cold-calling numbers in various cities.</p> <p>In a recent investigation, the FBI found that more than 80 people have fallen victim to the new tactics in California, Minnesota, Idaho and Texas. Those victims paid more than $87,000 in ransom.</p> <p>An FBI spokeswoman for the Kansas City offices said she was not aware of any instances that have occurred in Kansas or Missouri where the FBI was involved.</p> <p>The scam works this way: The potential victim answers a call and hears a woman screaming, “Help me!” The victim might blurt out a name, like Mary, asking her if she’s OK. At that point, the caller will tell the victim that Mary has been kidnapped and she will be harmed if ransom isn’t paid quickly.</p> <p>The scam is successful when victims don’t know the whereabouts of their loved ones.</p> <p>The scammers typically demand that the ransoms are wired to Mexico. The amount is typically less than $2,000 because of legal restrictions for wiring larger amounts across the border, the FBI said.</p> <p>However, two victims in Houston were coerced to pay larger ransoms by making money drops.</p> <p>A federal grand jury charged a 34-year-old Houston woman in July with 10 counts, including wire fraud and money laundering, for her involvement in the scam. The charges are the first federal indictment in a virtual kidnapping case, the FBI said.</p> <p>Robert A. Cronkleton: <a href=\"\" type=\"external\">816-234-4261</a>, <a href=\"https://twitter.com/cronkb\" type=\"external\">@cronkb</a></p> <p>How to avoid falling victim</p> <p>If you receive a call from someone demanding ransom for an alleged kidnap victim, the FBI suggests:</p> Hang up the phone. Don’t call out your loved one’s name if you do respond to call. Request to speak with the alleged victim. Ask questions only the alleged victim would know. Listen to the voice of the alleged victim if they do speak. Try to contact the alleged victim on the phone, text or social media. Don’t agree to pay a ransom. <p>If you believe a real kidnapping has taken place, call 911.</p> <p>Source: FBI</p>', 'label': 0}\n",
      "{'text': '<p>A woman is facing charges as part an investigation by the Manatee County Sheriff’s Office to crack down on illegal slot machines.</p> <p>Phalla Colman, 54, was arrested Thursday and charged with operating an illegal gambling establishment, operating an illegal lottery and possession of slot machines, according to a news release.</p> <p>Detectives began investigating Colman’s business at 3325 15 St. E., Bradenton, several weeks ago after she was suspected of running an illegal internet café or gambling establishment. Detectives were able to develop the case and obtain warrants for Colman’s arrest and the search the establishment, the release said.</p> <p>On Thursday, they searched her business and arrested her. Detectives seized 111 computer monitors, 79 computer towers and $3,415 in currency.</p> Breaking News <p>Be the first to know when big news breaks</p> <p>Recaptcha requires verification.</p> <p>protected by reCAPTCHA</p> <p><a href=\"https://www.google.com/intl/en/policies/privacy/\" type=\"external\">Privacy</a> - <a href=\"https://www.google.com/intl/en/policies/terms/\" type=\"external\">Terms</a></p> <p><a href=\"https://www.google.com/intl/en/policies/privacy/\" type=\"external\">Privacy</a> - <a href=\"https://www.google.com/intl/en/policies/terms/\" type=\"external\">Terms</a></p> <p>Jessica De Leon: <a href=\"\" type=\"external\">941-745-7049</a>, <a href=\"https://twitter.com/JDeLeon1012\" type=\"external\">@JDeLeon1012</a></p>', 'label': 0}\n",
      "{'text': '<p>Usually, the person with the most information makes better decisions. But when you rely on info that’s wrong, chances increase that your decisions are wrong.</p> <p>So it is with Florida’s solar power ballot Amendment 1. Opponents are funneling misinformation into the discussion.</p> <p>The truth is that by voting for Amendment 1, Florida voters have a historic opportunity to advance solar power in the Sunshine State, at the same time ensuring that energy consumers are treated fairly; this includes those who choose solar and those who do not.</p> <p>What does the amendment do? It constitutionally guarantees individuals and businesses the right to buy or lease solar equipment to produce their own energy; this means consumers will always have the right to generate their own solar electricity, and politicians cannot tamper with that right. Contrary to what opponents say, solar customers can still sell any excess electricity they generate back into the electric grid. More importantly, it protects Florida consumers from scams, rip-offs, overcharging and unfair subsidies. It treats all electricity consumers fairly.</p> <p>Because it is renewable energy, a tax break is provided. This is because renewable solar energy aids in protecting the environment. If you choose not to install solar, you won’t be required to subsidize the costs of electric grid access and back-up power to those who do.</p> <p>Another good point made by Florida TaxWatch is that, for Floridians who want the right to provide their own energy needs, “this amendment raises that right to Constitutional status, which strengthens that right, as it cannot be changed by state or local governments without going back to the voters.”</p> <p>Something else you should know, since we are seeing political leftists like the League of Women Voters dishing out misinformation to welcoming publishers like The Palm Beach Post (which editorially calls Amendment 1 a “fraud”), is that this ballot initiative is being supported by a wide list of groups other than utility companies. These include bipartisan coalitions of business, civic, non-profit and faith-based organizations working to promote solar energy without sacrificing common sense consumer protection.</p> <p>Many of those opposing Amendment 1 are companies that don’t want you to buy your own solar panels to generate your own electricity because they want you to buy solar electricity from them. Their business model is to lock consumers into 20-year contracts to put their solar equipment on your roof and sell you the electricity from it. And here’s the awful catch: The current published price for one of the leading companies, Solar City, is nearly 50% higher than what average Floridians pay for electricity today, plus its contract includes an automatic 2.9% cost increase—double what Floridians normally face. Something else these opponents fail to divulge is that they want a subsidy to operate their business model in Florida, a “stand-by charge” uniformly applied to every electric customer to ensure their model makes economic sense—for them. I do not believe that’s good for Floridians. Amendment 1 protects consumers from this type of subsidy.</p> <p>The Amendment does not block ownership of solar, it does not make solar more expensive, and it certainly does not discourage people from installing solar on their homes. These are outright lies to pull the wool over your eyes.</p> <p>Florida deserves a holistic approach to solar. Thankfully, Amendment 1 will provide a constitutional framework for solar in the Sunshine State, which will keep politicians and special interest groups from tampering with it.</p>', 'label': 0}\n",
      "{'text': '<p>When the removal of a sign becomes a sign of the times…</p> <p>In the open border utopia ushered in by President Barack Obama, it’s no longer socially acceptable to think Americans speak English and thus, down comes a famous sign at Geno’s Steaks in South Philly.</p> <p>More from <a href=\"http://insider.foxnews.com/2016/10/15/joey-ventos-speak-english-sign-removed-genos-philly-cheesesteaks-shop\" type=\"external\">Fox News</a>:</p> <q> <p>Geno’s has held its prominent location at South Philadelphia’s ‘cheesesteak junction’, at the diagonal meeting of 9th and Passyunk–and across from cheesesteak originator “Pat’s”, since 1966, but Vento’s contentious sign set it apart from the rest.</p> <p>Joey Vento, who died in 2011 at age 71, drew regional and national attention over his “This is America, When Ordering Speak English” sign posted to the walk-up window at ‘Geno’s’.</p> <p>After Vento’s death, his son Geno, named for his father’s shop, apparently decided to take the sign down.</p> </q> <p><a type=\"internal\">SEE ALSO: Dana Perino Erupts ‘Like Mount Vesuvius’: ‘After 20 Years Of Defending These Guys … Done!’</a></p> <p>Turns out, the descendant of Italian immigrants never refused service to anyone and said he posted the sign as political commentary on illegal immigration, according to Fox News.</p> <p>Geno’s Steaks released a statement on the removal of the sign, saying it’s time to move on.</p> <p>“While Geno continues to honor his father’s traditions of good quality food, cleanliness and giving back to the community, he has decided that after 10 years it is time to move on,” the statement said.</p> <p>“It’s not about the sign. It’s about what you do and what your mark in life is, and Geno wants to change that mark in life.”</p> <p>Geno’s was in the news recently when GOP presidential nominee Donald Trump, who is strongly opposed to illegal immigration, came by for a cheesesteak while campaigning.</p>', 'label': 0}\n"
     ]
    }
   ],
   "source": [
    "# 数据加载\n",
    "from paddlenlp.datasets import load_dataset\n",
    "\n",
    "train_ds, dev_ds, test_ds = load_dataset('hyp', splits=[\"train\", \"dev\", \"test\"])\n",
    "# 数据浏览\n",
    "print(test_ds[0])\n",
    "print(test_ds[1])\n",
    "print(test_ds[2])\n",
    "print(test_ds[3])"
   ]
  },
  {
   "cell_type": "markdown",
   "metadata": {
    "collapsed": false
   },
   "source": [
    "对第一条数据中的文本部分进行分析：  \n",
    "  {'text': '<p>The FBI is advising people to hang up if they receive a call from a woman screaming for help.</p> <p>A decades-old <a href=\"https://www.fbi.gov/news/stories/virtual-kidnapping\" type=\"external\">virtual kidnapping scam is placing more U.S. residents at risk of becoming potential victims</a>, the FBI warned on its website.</p> <p>The scheme takes many forms, but basically callers trick victims into paying ransoms to free family or friends who have been “kidnapped.” The virtual abductors coerce victims to pay a ransom before victims can find out that no one has been kidnapped.</p> <p>The FBI had been tracking virtual kidnapping calls primarily from prisons in Mexico between 2013 and 2015. The callers targeted individuals who spoke Spanish, the FBI said. Most of the victims were from the Los Angeles and Houston areas.</p> Today\\'s top news by email <p>The local news you need to start your day</p> <p>Recaptcha requires verification.</p> <p>protected by reCAPTCHA</p> <p><a href=\"https://www.google.com/intl/en/policies/privacy/\" type=\"external\">Privacy</a> - <a href=\"https://www.google.com/intl/en/policies/terms/\" type=\"external\">Terms</a></p> <p><a href=\"https://www.google.com/intl/en/policies/privacy/\" type=\"external\">Privacy</a> - <a href=\"https://www.google.com/intl/en/policies/terms/\" type=\"external\">Terms</a></p> <p>The FBI issued the warning because kidnappers have widened their pool of potential victims by no longer targeting only specific individuals and Spanish speakers. The callers also are cold-calling numbers in various cities.</p> <p>In a recent investigation, the FBI found that more than 80 people have fallen victim to the new tactics in California, Minnesota, Idaho and Texas. Those victims paid more than $87,000 in ransom.</p> <p>An FBI spokeswoman for the Kansas City offices said she was not aware of any instances that have occurred in Kansas or Missouri where the FBI was involved.</p> <p>The scam works this way: The potential victim answers a call and hears a woman screaming, “Help me!” The victim might blurt out a name, like Mary, asking her if she’s OK. At that point, the caller will tell the victim that Mary has been kidnapped and she will be harmed if ransom isn’t paid quickly.</p> <p>The scam is successful when victims don’t know the whereabouts of their loved ones.</p> <p>The scammers typically demand that the ransoms are wired to Mexico. The amount is typically less than $2,000 because of legal restrictions for wiring larger amounts across the border, the FBI said.</p> <p>However, two victims in Houston were coerced to pay larger ransoms by making money drops.</p> <p>A federal grand jury charged a 34-year-old Houston woman in July with 10 counts, including wire fraud and money laundering, for her involvement in the scam. The charges are the first federal indictment in a virtual kidnapping case, the FBI said.</p> <p>\n",
    "Robert A. Cronkleton: <a href=\"\" type=\"external\">816-234-4261</a>, <a href=\"https://twitter.com/cronkb\" type=\"external\">@cronkb</a></p> <p>How to avoid falling victim</p> <p>If you receive a call from someone demanding ransom for an alleged kidnap victim, the FBI suggests:</p> Hang up the phone. Don’t call out your loved one’s name if you do respond to call. Request to speak with the alleged victim. Ask questions only the alleged victim would know. Listen to the voice of the alleged victim if they do speak. Try to contact the alleged victim on the phone, text or social media. Don’t agree to pay a ransom. <p>If you believe a real kidnapping has taken place, call 911.</p> <p>Source: FBI</p>', 'label': 0}"
   ]
  },
  {
   "cell_type": "markdown",
   "metadata": {
    "collapsed": false
   },
   "source": [
    "分析可得，数据包括文本和标注两部分。其中，文本部分格式为HTML，文本内容包括新闻标题、新闻来源网站、新闻页面包含的其他外链，以及新闻中的发言人的社交网页链接。"
   ]
  },
  {
   "cell_type": "markdown",
   "metadata": {
    "collapsed": false
   },
   "source": [
    "## 2.2 文本数据转化为Feature"
   ]
  },
  {
   "cell_type": "code",
   "execution_count": 3,
   "metadata": {
    "collapsed": false
   },
   "outputs": [],
   "source": [
    "from paddlenlp.transformers import SkepForSequenceClassification, SkepTokenizer"
   ]
  },
  {
   "cell_type": "code",
   "execution_count": 4,
   "metadata": {
    "collapsed": false
   },
   "outputs": [],
   "source": [
    "tokenizer = SkepTokenizer.from_pretrained(pretrained_model_name_or_path=\"skep_ernie_2.0_large_en\")"
   ]
  },
  {
   "cell_type": "code",
   "execution_count": 5,
   "metadata": {
    "collapsed": false
   },
   "outputs": [],
   "source": [
    "import os\n",
    "from functools import partial\n",
    "import numpy as np\n",
    "import paddle\n",
    "import paddle.nn.functional as F\n",
    "from paddlenlp.data import Stack, Tuple, Pad\n",
    "\n",
    "from utils import create_dataloader\n",
    "\n",
    "def convert_example(example,\n",
    "                    tokenizer,\n",
    "                    max_seq_length=512,\n",
    "                    is_test=False):\n",
    "    \n",
    "    # 将原数据处理成model可读入的格式，enocded_inputs是一个dict，包含input_ids、token_type_ids等字段\n",
    "    encoded_inputs = tokenizer(\n",
    "        text=example[\"text\"], max_seq_len=max_seq_length)\n",
    "\n",
    "    # input_ids：对文本切分token后，在词汇表中对应的token id\n",
    "    input_ids = encoded_inputs[\"input_ids\"]\n",
    "    # token_type_ids：当前token属于句子1还是句子2，即上述图中表达的segment ids\n",
    "    token_type_ids = encoded_inputs[\"token_type_ids\"]\n",
    "\n",
    "    if not is_test:\n",
    "        label = np.array([example[\"label\"]], dtype=\"int64\")\n",
    "        return input_ids, token_type_ids, label\n",
    "    else:\n",
    "        return input_ids, token_type_ids"
   ]
  },
  {
   "cell_type": "markdown",
   "metadata": {
    "collapsed": false
   },
   "source": [
    "# 2.3  Batchify和数据读入"
   ]
  },
  {
   "cell_type": "code",
   "execution_count": 7,
   "metadata": {
    "collapsed": false
   },
   "outputs": [],
   "source": [
    "# 批量数据大小\r\n",
    "batch_size = 20\r\n",
    "# 文本序列最大长度\r\n",
    "max_seq_length = 256\r\n",
    "\r\n",
    "# 将数据处理成模型可读入的数据格式\r\n",
    "trans_func = partial(\r\n",
    "    convert_example,\r\n",
    "    tokenizer=tokenizer,\r\n",
    "    max_seq_length=max_seq_length)\r\n",
    "\r\n",
    "# 将数据组成批量式数据，如\r\n",
    "# 将不同长度的文本序列padding到批量式数据中最大长度\r\n",
    "# 将每条数据label堆叠在一起\r\n",
    "batchify_fn = lambda samples, fn=Tuple(\r\n",
    "    Pad(axis=0, pad_val=tokenizer.pad_token_id),  # input_ids\r\n",
    "    Pad(axis=0, pad_val=tokenizer.pad_token_type_id),  # token_type_ids\r\n",
    "    Stack()  # labels\r\n",
    "): [data for data in fn(samples)]\r\n",
    "train_data_loader = create_dataloader(\r\n",
    "    train_ds,\r\n",
    "    mode='train',\r\n",
    "    batch_size=batch_size,\r\n",
    "    batchify_fn=batchify_fn,\r\n",
    "    trans_fn=trans_func)\r\n",
    "dev_data_loader = create_dataloader(\r\n",
    "    dev_ds,\r\n",
    "    mode='dev',\r\n",
    "    batch_size=batch_size,\r\n",
    "    batchify_fn=batchify_fn,\r\n",
    "    trans_fn=trans_func)"
   ]
  },
  {
   "cell_type": "markdown",
   "metadata": {
    "collapsed": false
   },
   "source": [
    "# 三、 模型训练"
   ]
  },
  {
   "cell_type": "markdown",
   "metadata": {
    "collapsed": false
   },
   "source": [
    "## 3.1 模型介绍\n",
    "  \n",
    "近年来，大量的研究表明基于大型语料库的预训练模型（Pretrained Models, PTM）可以学习通用的语言表示，有利于下游NLP任务，同时能够避免从零开始训练模型。随着计算能力的发展，深度模型的出现（即 Transformer）和训练技巧的增强使得 PTM 不断发展，由浅变深。\n",
    "\n",
    "情感预训练模型SKEP（Sentiment Knowledge Enhanced Pre-training for Sentiment Analysis）。SKEP利用情感知识增强预训练模型， 在14项中英情感分析典型任务上全面超越SOTA，此工作已经被ACL 2020录用。SKEP是百度研究团队提出的基于情感知识增强的情感预训练算法，此算法采用无监督方法自动挖掘情感知识，然后利用情感知识构建预训练目标，从而让机器学会理解情感语义。SKEP为各类情感分析任务提供统一且强大的情感语义表示。\n",
    "\n",
    "![](https://ai-studio-static-online.cdn.bcebos.com/f83b5220eab54333b3937ec83d88a01c86e54c106af944cabbe3fa3e3c837edc)  \n",
    "百度研究团队在三个典型情感分析任务，句子级情感分类（Sentence-level Sentiment Classification），评价目标级情感分类（Aspect-level Sentiment Classification）、观点抽取（Opinion Role Labeling），共计14个中英文数据上进一步验证了情感预训练模型SKEP的效果。\n",
    "\n"
   ]
  },
  {
   "cell_type": "markdown",
   "metadata": {
    "collapsed": false
   },
   "source": [
    "## 3.2 模型设置"
   ]
  },
  {
   "cell_type": "code",
   "execution_count": null,
   "metadata": {
    "collapsed": false
   },
   "outputs": [],
   "source": [
    "model = SkepForSequenceClassification.from_pretrained(pretrained_model_name_or_path=\"skep_ernie_2.0_large_en\", num_classes=len(train_ds.label_list))"
   ]
  },
  {
   "cell_type": "code",
   "execution_count": 8,
   "metadata": {
    "collapsed": false
   },
   "outputs": [],
   "source": [
    "import time\r\n",
    "\r\n",
    "from utils import evaluate\r\n",
    "\r\n",
    "# 训练轮次\r\n",
    "epochs = 3\r\n",
    "# 训练过程中保存模型参数的文件夹\r\n",
    "ckpt_dir = \"skep_ckpt\"\r\n",
    "# len(train_data_loader)一轮训练所需要的step数\r\n",
    "num_training_steps = len(train_data_loader) * epochs\r\n",
    "\r\n",
    "# Adam优化器\r\n",
    "optimizer = paddle.optimizer.AdamW(\r\n",
    "    learning_rate=2e-5,\r\n",
    "    parameters=model.parameters())\r\n",
    "# 交叉熵损失函数\r\n",
    "criterion = paddle.nn.loss.CrossEntropyLoss()\r\n",
    "# accuracy评价指标\r\n",
    "metric = paddle.metric.Accuracy()"
   ]
  },
  {
   "cell_type": "markdown",
   "metadata": {
    "collapsed": false
   },
   "source": [
    "## 3.3 开启训练"
   ]
  },
  {
   "cell_type": "code",
   "execution_count": null,
   "metadata": {
    "collapsed": false
   },
   "outputs": [
    {
     "name": "stdout",
     "output_type": "stream",
     "text": [
      "global step 10, epoch: 1, batch: 10, loss: 0.19500, accu: 0.93724, speed: 0.77 step/s\n",
      "eval loss: 0.89132, accu: 0.78125\n",
      "global step 20, epoch: 1, batch: 20, loss: 0.09746, accu: 0.98500, speed: 0.57 step/s\n",
      "eval loss: 0.41448, accu: 0.89062\n",
      "global step 30, epoch: 2, batch: 4, loss: 0.00545, accu: 1.00000, speed: 0.57 step/s\n",
      "eval loss: 0.44573, accu: 0.89062\n",
      "global step 40, epoch: 2, batch: 14, loss: 0.03099, accu: 1.00000, speed: 0.56 step/s\n",
      "eval loss: 0.49891, accu: 0.89062\n",
      "global step 50, epoch: 2, batch: 24, loss: 0.00080, accu: 0.99500, speed: 0.61 step/s\n",
      "eval loss: 0.40838, accu: 0.90625\n",
      "global step 60, epoch: 3, batch: 8, loss: 0.00086, accu: 1.00000, speed: 0.57 step/s\n",
      "eval loss: 0.39832, accu: 0.89062\n",
      "global step 70, epoch: 3, batch: 18, loss: 0.00238, accu: 1.00000, speed: 0.57 step/s\n",
      "eval loss: 0.37430, accu: 0.90625\n"
     ]
    }
   ],
   "source": [
    "# 开启训练\r\n",
    "global_step = 0\r\n",
    "tic_train = time.time()\r\n",
    "for epoch in range(1, epochs + 1):\r\n",
    "    for step, batch in enumerate(train_data_loader, start=1):\r\n",
    "        input_ids, token_type_ids, labels = batch\r\n",
    "        # 喂数据给model\r\n",
    "        logits = model(input_ids, token_type_ids)\r\n",
    "        # 计算损失函数值\r\n",
    "        loss = criterion(logits, labels)\r\n",
    "        # 预测分类概率值\r\n",
    "        probs = F.softmax(logits, axis=1)\r\n",
    "        # 计算acc\r\n",
    "        correct = metric.compute(probs, labels)\r\n",
    "        metric.update(correct)\r\n",
    "        acc = metric.accumulate()\r\n",
    "\r\n",
    "        global_step += 1\r\n",
    "        if global_step % 10 == 0:\r\n",
    "            print(\r\n",
    "                \"global step %d, epoch: %d, batch: %d, loss: %.5f, accu: %.5f, speed: %.2f step/s\"\r\n",
    "                % (global_step, epoch, step, loss, acc,\r\n",
    "                    10 / (time.time() - tic_train)))\r\n",
    "            tic_train = time.time()\r\n",
    "        \r\n",
    "        # 反向梯度回传，更新参数\r\n",
    "        loss.backward()\r\n",
    "        optimizer.step()\r\n",
    "        optimizer.clear_grad()\r\n",
    "\r\n",
    "        if global_step % 10 == 0:\r\n",
    "            save_dir = './output'\r\n",
    "            if not os.path.exists(save_dir):\r\n",
    "                os.makedirs(save_dir)\r\n",
    "            # 评估当前训练的模型\r\n",
    "            evaluate(model, criterion, metric, dev_data_loader)\r\n",
    "            # 保存当前模型参数等\r\n",
    "            model.save_pretrained(save_dir)\r\n",
    "            # 保存tokenizer的词表等\r\n",
    "            tokenizer.save_pretrained(save_dir)"
   ]
  },
  {
   "cell_type": "markdown",
   "metadata": {
    "collapsed": false
   },
   "source": [
    "# 四、模型测试"
   ]
  },
  {
   "cell_type": "code",
   "execution_count": 9,
   "metadata": {
    "collapsed": false
   },
   "outputs": [],
   "source": [
    "import numpy as np\r\n",
    "import paddle\r\n",
    "\r\n",
    "# 处理测试集数据\r\n",
    "trans_func = partial(\r\n",
    "    convert_example,\r\n",
    "    tokenizer=tokenizer,\r\n",
    "    max_seq_length=max_seq_length,\r\n",
    "    is_test=True)\r\n",
    "batchify_fn = lambda samples, fn=Tuple(\r\n",
    "    Pad(axis=0, pad_val=tokenizer.pad_token_id),  # input\r\n",
    "    Pad(axis=0, pad_val=tokenizer.pad_token_type_id),  # segment\r\n",
    "): [data for data in fn(samples)]\r\n",
    "test_data_loader = create_dataloader(\r\n",
    "    test_ds,\r\n",
    "    mode='test',\r\n",
    "    batch_size=batch_size,\r\n",
    "    batchify_fn=batchify_fn,\r\n",
    "    trans_fn=trans_func)"
   ]
  },
  {
   "cell_type": "code",
   "execution_count": 10,
   "metadata": {
    "collapsed": false
   },
   "outputs": [
    {
     "name": "stdout",
     "output_type": "stream",
     "text": [
      "Loaded parameters from output/model_state.pdparams\n"
     ]
    }
   ],
   "source": [
    "params_path = 'output/model_state.pdparams'\r\n",
    "if params_path and os.path.isfile(params_path):\r\n",
    "    # 加载模型参数\r\n",
    "    state_dict = paddle.load(params_path)\r\n",
    "    model.set_dict(state_dict)\r\n",
    "    print(\"Loaded parameters from %s\" % params_path)"
   ]
  },
  {
   "cell_type": "code",
   "execution_count": 11,
   "metadata": {
    "collapsed": false
   },
   "outputs": [],
   "source": [
    "label_map = {0: '0', 1: '1'}\r\n",
    "results = []\r\n",
    "# 切换model模型为评估模式，关闭dropout等随机因素\r\n",
    "model.eval()\r\n",
    "for batch in test_data_loader:\r\n",
    "    input_ids, token_type_ids = batch\r\n",
    "    # 喂数据给模型\r\n",
    "    logits = model(input_ids, token_type_ids)\r\n",
    "    # 预测分类\r\n",
    "    probs = F.softmax(logits, axis=-1)\r\n",
    "    idx = paddle.argmax(probs, axis=1).numpy()\r\n",
    "    idx = idx.tolist()\r\n",
    "    labels = [label_map[i] for i in idx]\r\n",
    "    results.extend(labels)"
   ]
  },
  {
   "cell_type": "code",
   "execution_count": 13,
   "metadata": {
    "collapsed": false
   },
   "outputs": [],
   "source": [
    "res_dir = \"result\"\r\n",
    "if not os.path.exists(res_dir):\r\n",
    "    os.makedirs(res_dir)\r\n",
    "# 写入预测结果\r\n",
    "with open(os.path.join('result', 'ChnSentiCorp.tsv'), 'w', encoding=\"utf8\") as f:\r\n",
    "    f.write(\"prediction\\n\")\r\n",
    "    for label in results:\r\n",
    "        f.write(label+\"\\n\")"
   ]
  },
  {
   "cell_type": "markdown",
   "metadata": {
    "collapsed": false
   },
   "source": [
    "请点击[此处](https://ai.baidu.com/docs#/AIStudio_Project_Notebook/a38e5576)查看本环境基本用法.  <br>\n",
    "Please click [here ](https://ai.baidu.com/docs#/AIStudio_Project_Notebook/a38e5576) for more detailed instructions. "
   ]
  }
 ],
 "metadata": {
  "kernelspec": {
   "display_name": "Python 3",
   "language": "python",
   "name": "py35-paddle1.2.0"
  },
  "language_info": {
   "codemirror_mode": {
    "name": "ipython",
    "version": 3
   },
   "file_extension": ".py",
   "mimetype": "text/x-python",
   "name": "python",
   "nbconvert_exporter": "python",
   "pygments_lexer": "ipython3",
   "version": "3.7.4"
  }
 },
 "nbformat": 4,
 "nbformat_minor": 1
}
